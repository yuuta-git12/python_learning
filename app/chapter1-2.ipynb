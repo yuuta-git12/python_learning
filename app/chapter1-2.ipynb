{
 "cells": [
  {
   "cell_type": "code",
   "execution_count": 2,
   "id": "f0df6620-7f39-4233-9369-e5d74d8b0208",
   "metadata": {
    "tags": []
   },
   "outputs": [
    {
     "name": "stdout",
     "output_type": "stream",
     "text": [
      "Hi.Hi.Hi.Mike\n"
     ]
    }
   ],
   "source": [
    "print('Hi.'*3+'Mike')"
   ]
  },
  {
   "cell_type": "code",
   "execution_count": 3,
   "id": "b3d22441-b7f3-473f-a3ea-73a32b58c6fd",
   "metadata": {
    "tags": []
   },
   "outputs": [
    {
     "name": "stdout",
     "output_type": "stream",
     "text": [
      "Python\n",
      "Python\n"
     ]
    }
   ],
   "source": [
    "print('Py'+'thon')\n",
    "print('Py''thon')"
   ]
  },
  {
   "cell_type": "code",
   "execution_count": 4,
   "id": "9d24e4cb-3348-45bc-ac38-1b44f4f445e4",
   "metadata": {
    "tags": []
   },
   "outputs": [
    {
     "name": "stdout",
     "output_type": "stream",
     "text": [
      "Py\n",
      "Python\n"
     ]
    }
   ],
   "source": [
    "prefix = 'Py'\n",
    "print(prefix)\n",
    "print(prefix+'thon')"
   ]
  },
  {
   "cell_type": "code",
   "execution_count": 5,
   "id": "c93a8584-db6a-49bf-b990-ad9c8c5b69b1",
   "metadata": {
    "tags": []
   },
   "outputs": [
    {
     "name": "stdout",
     "output_type": "stream",
     "text": [
      "p\n"
     ]
    }
   ],
   "source": [
    "word = 'python'\n",
    "print(word[0])"
   ]
  },
  {
   "cell_type": "code",
   "execution_count": 6,
   "id": "f8b57237-20f5-4fd8-86a4-22523a16210c",
   "metadata": {
    "tags": []
   },
   "outputs": [
    {
     "name": "stdout",
     "output_type": "stream",
     "text": [
      "y\n"
     ]
    }
   ],
   "source": [
    "print(word[1])"
   ]
  },
  {
   "cell_type": "code",
   "execution_count": 7,
   "id": "d6aa7dfa-9fac-44fd-8c00-ec255a0c14ab",
   "metadata": {
    "tags": []
   },
   "outputs": [
    {
     "name": "stdout",
     "output_type": "stream",
     "text": [
      "n\n"
     ]
    }
   ],
   "source": [
    "print(word[-1])"
   ]
  },
  {
   "cell_type": "code",
   "execution_count": 8,
   "id": "bd180bf8-5209-4250-9304-b5a4b2ca6af5",
   "metadata": {},
   "outputs": [
    {
     "name": "stdout",
     "output_type": "stream",
     "text": [
      "py\n"
     ]
    }
   ],
   "source": [
    "print(word[0:2])"
   ]
  },
  {
   "cell_type": "code",
   "execution_count": 9,
   "id": "fd2ae3c9-dc16-445c-bfd9-ef43726dd5d3",
   "metadata": {
    "tags": []
   },
   "outputs": [
    {
     "name": "stdout",
     "output_type": "stream",
     "text": [
      "tho\n"
     ]
    }
   ],
   "source": [
    "print(word[2:5])"
   ]
  },
  {
   "cell_type": "code",
   "execution_count": 10,
   "id": "dcb4a770-7b73-4f85-ac8b-dfd82515a7de",
   "metadata": {
    "tags": []
   },
   "outputs": [
    {
     "name": "stdout",
     "output_type": "stream",
     "text": [
      "py\n",
      "py\n"
     ]
    }
   ],
   "source": [
    "print(word[0:2])\n",
    "print(word[:2])"
   ]
  },
  {
   "cell_type": "code",
   "execution_count": 11,
   "id": "788bea0f-5ee1-4b5b-9171-73f0833f624d",
   "metadata": {
    "tags": []
   },
   "outputs": [
    {
     "name": "stdout",
     "output_type": "stream",
     "text": [
      "thon\n"
     ]
    }
   ],
   "source": [
    "print(word[2:])"
   ]
  },
  {
   "cell_type": "code",
   "execution_count": null,
   "id": "00fbd9d0-2fe6-4d5c-9d41-c79a9d7e9272",
   "metadata": {
    "tags": []
   },
   "outputs": [],
   "source": []
  },
  {
   "cell_type": "code",
   "execution_count": 12,
   "id": "d1de5ec7-a198-41a1-a11b-09210f826fb0",
   "metadata": {
    "tags": []
   },
   "outputs": [
    {
     "name": "stdout",
     "output_type": "stream",
     "text": [
      "python\n"
     ]
    }
   ],
   "source": [
    "print(word[:])"
   ]
  },
  {
   "cell_type": "code",
   "execution_count": 13,
   "id": "8a288d36-49aa-46bc-8af3-88343fe10238",
   "metadata": {},
   "outputs": [
    {
     "name": "stdout",
     "output_type": "stream",
     "text": [
      "6\n"
     ]
    }
   ],
   "source": [
    "n = len(word)\n",
    "print(n)"
   ]
  },
  {
   "cell_type": "code",
   "execution_count": 15,
   "id": "d62fac6b-0cc7-4a63-a563-7d3eee16979a",
   "metadata": {
    "tags": []
   },
   "outputs": [
    {
     "name": "stdout",
     "output_type": "stream",
     "text": [
      "True\n",
      "False\n"
     ]
    }
   ],
   "source": [
    "s = 'My name is Mike. Hi Mike.'\n",
    "# 以下文字列に関するメソッドを記載\n",
    "# 対象の文字列が引数の文字列で始まっていればtrueを返す\n",
    "is_start = s.startswith('My')\n",
    "print(is_start)\n",
    "\n",
    "is_start2 = s.startswith('x')\n",
    "print(is_start2)"
   ]
  },
  {
   "cell_type": "code",
   "execution_count": 18,
   "id": "83727fec-e99c-4d48-8f93-953e78969ac3",
   "metadata": {
    "tags": []
   },
   "outputs": [
    {
     "name": "stdout",
     "output_type": "stream",
     "text": [
      "11\n",
      "-1\n"
     ]
    }
   ],
   "source": [
    "# 引数の文字列が対象の文字列の何文字目に存在するか返す 存在しない場合は-1を返す\n",
    "print(s.find('Mike'))\n",
    "print(s.find('Taro'))"
   ]
  },
  {
   "cell_type": "code",
   "execution_count": 19,
   "id": "ab7cb06b-1dac-42e9-86aa-d633cf42b637",
   "metadata": {
    "tags": []
   },
   "outputs": [
    {
     "name": "stdout",
     "output_type": "stream",
     "text": [
      "20\n"
     ]
    }
   ],
   "source": [
    "print(s.rfind('Mike'))"
   ]
  },
  {
   "cell_type": "code",
   "execution_count": 20,
   "id": "3f32b312-b2f5-4471-8678-bce045def934",
   "metadata": {
    "tags": []
   },
   "outputs": [
    {
     "name": "stdout",
     "output_type": "stream",
     "text": [
      "2\n"
     ]
    }
   ],
   "source": [
    "# 指定した文字列の個数を返す\n",
    "print(s.count('Mike'))"
   ]
  },
  {
   "cell_type": "code",
   "execution_count": 21,
   "id": "261c3497-9227-4866-ba75-38832a1ade29",
   "metadata": {
    "tags": []
   },
   "outputs": [
    {
     "name": "stdout",
     "output_type": "stream",
     "text": [
      "My name is mike. hi mike.\n"
     ]
    }
   ],
   "source": [
    "# 文字列の1文字目を大文字にそれ以外を小文字にして返す\n",
    "print(s.capitalize())"
   ]
  },
  {
   "cell_type": "code",
   "execution_count": 22,
   "id": "a867d288-ec6f-4f0c-9fce-71be1eab5d0f",
   "metadata": {
    "tags": []
   },
   "outputs": [
    {
     "name": "stdout",
     "output_type": "stream",
     "text": [
      "My Name Is Mike. Hi Mike.\n"
     ]
    }
   ],
   "source": [
    "#　単語の際の文字を大文字に、それ以外を小文字にして返す\n",
    "print(s.title())"
   ]
  },
  {
   "cell_type": "code",
   "execution_count": 23,
   "id": "9f613f87-64ad-4831-b7b7-8c0f9f127a94",
   "metadata": {
    "tags": []
   },
   "outputs": [
    {
     "name": "stdout",
     "output_type": "stream",
     "text": [
      "MY NAME IS MIKE. HI MIKE.\n"
     ]
    }
   ],
   "source": [
    "# 全ての文字を大文字にして返す\n",
    "print(s.upper())"
   ]
  },
  {
   "cell_type": "code",
   "execution_count": 24,
   "id": "a36311d8-b14f-48eb-92a1-ef6eb822f539",
   "metadata": {
    "tags": []
   },
   "outputs": [
    {
     "name": "stdout",
     "output_type": "stream",
     "text": [
      "my name is mike. hi mike.\n"
     ]
    }
   ],
   "source": [
    "# 全てのもじを小文字にして返す\n",
    "print(s.lower())"
   ]
  },
  {
   "cell_type": "code",
   "execution_count": 25,
   "id": "0aa15a05-7a1d-418f-a51b-996d7b2ab6f7",
   "metadata": {
    "tags": []
   },
   "outputs": [
    {
     "name": "stdout",
     "output_type": "stream",
     "text": [
      "My name is Nancy. Hi Nancy.\n"
     ]
    }
   ],
   "source": [
    "#　文字列を置換した結果を返す\n",
    "print(s.replace('Mike','Nancy'))"
   ]
  },
  {
   "cell_type": "code",
   "execution_count": 1,
   "id": "22cae498-5d1a-4304-a211-53ad1a953f96",
   "metadata": {
    "tags": []
   },
   "outputs": [
    {
     "name": "stdout",
     "output_type": "stream",
     "text": [
      "a is a\n"
     ]
    }
   ],
   "source": [
    "# 文字列に他の値を挿入\n",
    "print('a is {}'.format('a'))"
   ]
  },
  {
   "cell_type": "code",
   "execution_count": 3,
   "id": "e0da696e-4c9c-4ee3-bccb-5c0c03649b28",
   "metadata": {
    "tags": []
   },
   "outputs": [
    {
     "name": "stdout",
     "output_type": "stream",
     "text": [
      "a is test\n"
     ]
    }
   ],
   "source": [
    "print('a is {}'.format('test'))"
   ]
  },
  {
   "cell_type": "code",
   "execution_count": 4,
   "id": "766d81bd-dca9-4bc9-9ace-efd1fd776824",
   "metadata": {
    "tags": []
   },
   "outputs": [
    {
     "name": "stdout",
     "output_type": "stream",
     "text": [
      "a is 1 2 3\n"
     ]
    }
   ],
   "source": [
    "# formatの（）の中に数値を入れた場合も、文字列に型変換されて挿入される\n",
    "print('a is {} {} {}'.format(1,2,3))"
   ]
  },
  {
   "cell_type": "code",
   "execution_count": 5,
   "id": "a1c7a13d-3a8d-46fa-a5ec-15eff5694e45",
   "metadata": {
    "tags": []
   },
   "outputs": [
    {
     "name": "stdout",
     "output_type": "stream",
     "text": [
      "a is 1 2 3\n"
     ]
    }
   ],
   "source": [
    "print('a is {0} {1} {2}'.format(1,2,3))"
   ]
  },
  {
   "cell_type": "code",
   "execution_count": 6,
   "id": "99486d6d-ff92-4e9f-8c67-6d94a84d7660",
   "metadata": {
    "tags": []
   },
   "outputs": [
    {
     "name": "stdout",
     "output_type": "stream",
     "text": [
      "a is 2 1 3\n"
     ]
    }
   ],
   "source": [
    "print('a is {1} {0} {2}'.format(1,2,3))"
   ]
  },
  {
   "cell_type": "code",
   "execution_count": 7,
   "id": "4645daf1-c93d-4f07-9636-35bb91857acc",
   "metadata": {
    "tags": []
   },
   "outputs": [
    {
     "name": "stdout",
     "output_type": "stream",
     "text": [
      "My name is Jun Sakai. Watashi wa Sakai Jun.\n"
     ]
    }
   ],
   "source": [
    "print('My name is {0} {1}. Watashi wa {1} {0}.'.format('Jun','Sakai'))"
   ]
  },
  {
   "cell_type": "code",
   "execution_count": 8,
   "id": "bf1e4c34-5ddf-4c25-951c-4754640d328c",
   "metadata": {
    "tags": []
   },
   "outputs": [
    {
     "name": "stdout",
     "output_type": "stream",
     "text": [
      "My name is Jun Sakai. Watashi wa Sakai Jun.\n"
     ]
    }
   ],
   "source": [
    "print('My name is {name} {family}. Watashi wa {family} {name}.'.format(name='Jun',family='Sakai'))"
   ]
  },
  {
   "cell_type": "code",
   "execution_count": 9,
   "id": "54b690b0-a9b3-4bf0-98f0-acdb64e8c494",
   "metadata": {},
   "outputs": [
    {
     "name": "stdout",
     "output_type": "stream",
     "text": [
      "a is a\n"
     ]
    }
   ],
   "source": [
    "# f-stringsの書き方\n",
    "a = 'a'\n",
    "print(f'a is {a}')"
   ]
  },
  {
   "cell_type": "code",
   "execution_count": 10,
   "id": "db3ee6c9-31ad-4470-9db2-b4e7fd92d91f",
   "metadata": {
    "tags": []
   },
   "outputs": [
    {
     "name": "stdout",
     "output_type": "stream",
     "text": [
      "a is 1,2,3\n",
      "a is 3,2,1\n"
     ]
    }
   ],
   "source": [
    "x,y,z = 1,2,3\n",
    "print(f'a is {x},{y},{z}')\n",
    "print(f'a is {z},{y},{x}')"
   ]
  },
  {
   "cell_type": "code",
   "execution_count": 12,
   "id": "76089d41-a372-4b34-8fae-e9eb5bd5c918",
   "metadata": {
    "tags": []
   },
   "outputs": [
    {
     "name": "stdout",
     "output_type": "stream",
     "text": [
      "My name is Taro Yamada. Watashi wa Yamada Taro\n"
     ]
    }
   ],
   "source": [
    "name = 'Taro'\n",
    "family = 'Yamada'\n",
    "print(f'My name is {name} {family}. Watashi wa {family} {name}')"
   ]
  },
  {
   "cell_type": "code",
   "execution_count": 14,
   "id": "978cb7d9-3e83-42e4-80a7-c29bb89d99c7",
   "metadata": {
    "tags": []
   },
   "outputs": [
    {
     "name": "stdout",
     "output_type": "stream",
     "text": [
      "<class 'str'>\n"
     ]
    }
   ],
   "source": [
    "# 数値の文字列への型変換\n",
    "print(type(str(1)))\n"
   ]
  },
  {
   "cell_type": "code",
   "execution_count": 15,
   "id": "59f80c96-42bd-4474-a386-8cc666f8d3ae",
   "metadata": {
    "tags": []
   },
   "outputs": [
    {
     "name": "stdout",
     "output_type": "stream",
     "text": [
      "<class 'str'>\n"
     ]
    }
   ],
   "source": [
    "print(type(str(3.14)))"
   ]
  },
  {
   "cell_type": "code",
   "execution_count": 16,
   "id": "59e55682-d2b6-4f60-8c82-87db7c87f1e5",
   "metadata": {
    "tags": []
   },
   "outputs": [
    {
     "name": "stdout",
     "output_type": "stream",
     "text": [
      "<class 'str'>\n"
     ]
    }
   ],
   "source": [
    "print(type(str(True)))"
   ]
  },
  {
   "cell_type": "code",
   "execution_count": null,
   "id": "cfc52b34-e3c5-4618-bf6e-50efd950151d",
   "metadata": {},
   "outputs": [],
   "source": []
  }
 ],
 "metadata": {
  "kernelspec": {
   "display_name": "Python 3 (ipykernel)",
   "language": "python",
   "name": "python3"
  },
  "language_info": {
   "codemirror_mode": {
    "name": "ipython",
    "version": 3
   },
   "file_extension": ".py",
   "mimetype": "text/x-python",
   "name": "python",
   "nbconvert_exporter": "python",
   "pygments_lexer": "ipython3",
   "version": "3.11.5"
  }
 },
 "nbformat": 4,
 "nbformat_minor": 5
}
